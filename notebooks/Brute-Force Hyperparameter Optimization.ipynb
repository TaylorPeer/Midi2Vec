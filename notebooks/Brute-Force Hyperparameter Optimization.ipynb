{
 "cells": [
  {
   "cell_type": "markdown",
   "metadata": {},
   "source": [
    "# Brute-Force Hyperparameter Optimization\n",
    "\n",
    "This notebook shows how to use the *BruteForce* optimizer module together with a **Midi2Vec** *Pipeline* to evaluate a large number of *Encoder* and *SequenceLearner* hyperparameter combinations against a given training set.\n",
    "\n",
    "* **Encoder**: trains a *Doc2Vec* model against textual representations of MIDI files and uses this model to convert MIDI files into sequences of real-valued vectors.\n",
    "* **SequenceLearner**: uses a *Keras* LSTM to learn patterns in sequences of real-valued vectors and, once trained, can generate new sequences of such vectors.\n",
    "* **Pipeline**: combines various **Midi2Vec** components for encoding, sequence learning and evaluation into a single interface.\n",
    "* **BruteForce**: Computes and evaluates all possible hyperparameter combinations within user-specified ranges."
   ]
  },
  {
   "cell_type": "markdown",
   "metadata": {},
   "source": [
    "## Imports"
   ]
  },
  {
   "cell_type": "code",
   "execution_count": 1,
   "metadata": {
    "collapsed": false
   },
   "outputs": [
    {
     "name": "stderr",
     "output_type": "stream",
     "text": [
      "/usr/local/lib/python3.5/site-packages/h5py/__init__.py:36: FutureWarning: Conversion of the second argument of issubdtype from `float` to `np.floating` is deprecated. In future, it will be treated as `np.float64 == np.dtype(float).type`.\n",
      "  from ._conv import register_converters as _register_converters\n",
      "Using TensorFlow backend.\n",
      "/usr/local/Cellar/python3/3.5.2_3/Frameworks/Python.framework/Versions/3.5/lib/python3.5/importlib/_bootstrap.py:222: RuntimeWarning: compiletime version 3.6 of module 'tensorflow.python.framework.fast_tensor_util' does not match runtime version 3.5\n",
      "  return f(*args, **kwds)\n"
     ]
    }
   ],
   "source": [
    "import sys\n",
    "import time\n",
    "import logging\n",
    "import pandas as pd\n",
    "import seaborn as sns\n",
    "%matplotlib inline\n",
    "import matplotlib.pyplot as plt\n",
    "import math\n",
    "import itertools\n",
    "\n",
    "# Add Midi2Vec to Python working directory\n",
    "sys.path.append('../')\n",
    "\n",
    "from data_loading import MidiDataLoader\n",
    "from midi_to_dataframe import NoteMapper\n",
    "from pipeline import Pipeline\n",
    "from optimization import BruteForce"
   ]
  },
  {
   "cell_type": "markdown",
   "metadata": {},
   "source": [
    "## Logging Configuration"
   ]
  },
  {
   "cell_type": "code",
   "execution_count": 2,
   "metadata": {
    "collapsed": true
   },
   "outputs": [],
   "source": [
    "logger = logging.getLogger()\n",
    "logger.level = logging.INFO\n",
    "stream_handler = logging.StreamHandler(sys.stdout)\n",
    "logger.addHandler(stream_handler)\n",
    "\n",
    "# Disable Gensim (Doc2Vec) output\n",
    "logging.getLogger(\"gensim\").setLevel(logging.WARNING)"
   ]
  },
  {
   "cell_type": "markdown",
   "metadata": {},
   "source": [
    "## Brute-Force Hyperparameter Sweep Values\n",
    "\n",
    "All individual hyperparameter values to evaluate should be explicitly defined below. The *BruteForce* module will then compute all of their possible permutations and train and evaluate the corresponding modules using each computed set of parameters."
   ]
  },
  {
   "cell_type": "code",
   "execution_count": 3,
   "metadata": {
    "collapsed": true
   },
   "outputs": [],
   "source": [
    "# Documents used to train semantic encoder model\n",
    "encoder_training_docs = \"../../midi-embeddings/data/full_1_measure.txt\"\n",
    "#encoder_training_docs = \"../resources/encoder_training_docs/full_1_measure.txt\"\n",
    "#encoder_training_docs = \"../../midi-embeddings/data/full_1_measure_100k.txt\"\n",
    "\n",
    "param_sweep_values = {\n",
    "\n",
    "    # Encoder (doc2vec) settings:\n",
    "    'doc2vec_docs': [encoder_training_docs],\n",
    "    'doc2vec_dm': [1],\n",
    "    'doc2vec_dm_mean': [1],\n",
    "    'doc2vec_epochs': [1],\n",
    "    'doc2vec_hs': [0],\n",
    "    'doc2vec_learning_rate_start': [0.025],\n",
    "    'doc2vec_learning_rate_end': [0.2],\n",
    "    'doc2vec_min_count': [8],\n",
    "    'doc2vec_negative': [0],\n",
    "    'doc2vec_vector_size': [20],\n",
    "    'doc2vec_window': [4],\n",
    "\n",
    "    # Sequence learning (Keras LSTM) settings:\n",
    "    'nn_features': [\n",
    "        ['bpm', 'measure', 'beat']\n",
    "    ],\n",
    "    'nn_batch_size': [32],\n",
    "    'nn_dense_activation_function': [\"linear\"],\n",
    "    'nn_dropout': [0],\n",
    "    'nn_epochs': [16],\n",
    "    'nn_hidden_neurons': [32],\n",
    "    'nn_layers': [16],\n",
    "    'nn_lstm_activation_function': [\"selu\"],\n",
    "    'nn_lstm_n_prev': [16],\n",
    "    'nn_loss': [\n",
    "        'mean_squared_error',\n",
    "        'mean_absolute_error',\n",
    "        'mean_absolute_percentage_error',\n",
    "        'mean_squared_logarithmic_error',\n",
    "        'squared_hinge',\n",
    "        'hinge',\n",
    "        'categorical_hinge',\n",
    "        'logcosh',\n",
    "        'categorical_crossentropy',\n",
    "        'sparse_categorical_crossentropy',\n",
    "        'binary_crossentropy',\n",
    "        'kullback_leibler_divergence',\n",
    "        'cosine_proximity'\n",
    "    ],\n",
    "    'nn_optimizer': [\n",
    "        'sgd',\n",
    "        'rmsprop',\n",
    "        'adagrad',\n",
    "        'adadelta',\n",
    "        'adam',\n",
    "        'adamax',\n",
    "        'nadam'\n",
    "    ]\n",
    "}\n",
    "\n",
    "# 'Variables' are those hyperparameters with multiple values defined\n",
    "variables = []\n",
    "for key, value in param_sweep_values.items():\n",
    "    if len(value) > 1:\n",
    "        variables.append(key)"
   ]
  },
  {
   "cell_type": "markdown",
   "metadata": {},
   "source": [
    "## Define Training Documents and DataLoader \n",
    "\n",
    "The training documents are MIDI sequences that the **Midi2Vec** model should learn to imitate and reproduce."
   ]
  },
  {
   "cell_type": "code",
   "execution_count": 4,
   "metadata": {
    "collapsed": false
   },
   "outputs": [],
   "source": [
    "# Define note mapper for MIDI file loading\n",
    "note_mapping_config_path = \"../settings/map-to-group.json\"\n",
    "note_mapper = NoteMapper(note_mapping_config_path)\n",
    "\n",
    "# Data loader used to encode MIDI-format training files\n",
    "data_loader = MidiDataLoader(note_mapper)\n",
    "\n",
    "# Define training documents for sequence learning\n",
    "training_docs = [\"../resources/midi/system_shock/cyberspace_clip_16.mid\",\n",
    "                \"../resources/midi/system_shock/end_remix_clip_16.mid\",\n",
    "                \"../resources/midi/system_shock/energy_clip_16.mid\",\n",
    "                \"../resources/midi/system_shock/security_bridge_clip_16.mid\"]\n",
    "\n",
    "training_docs = [\"../resources/midi/breakbeats/084 Breakthru.mid\",\n",
    "                 \"../resources/midi/breakbeats/086 Clouds.mid\",\n",
    "                 \"../resources/midi/breakbeats/089 Get Out.mid\",\n",
    "                 \"../resources/midi/breakbeats/089 Wrong.mid\",\n",
    "                 \"../resources/midi/breakbeats/090 Deceive.mid\",\n",
    "                 \"../resources/midi/breakbeats/090 New York.mid\",\n",
    "                 \"../resources/midi/breakbeats/090 Radio.mid\",\n",
    "                 \"../resources/midi/breakbeats/093 Pretender.mid\",\n",
    "                 \"../resources/midi/breakbeats/093 Right Won.mid\",\n",
    "                 \"../resources/midi/breakbeats/094 Run.mid\"]\n",
    "\n",
    "training_docs = [\"../resources/midi/jungle/160 Jungle 05.mid\",\n",
    "                 \"../resources/midi/jungle/160 Jungle 11.mid\",\n",
    "                 \"../resources/midi/jungle/170 Jungle 01.mid\",\n",
    "                 \"../resources/midi/jungle/170 Jungle 03.mid\",\n",
    "                 \"../resources/midi/jungle/170 Jungle 04.mid\",\n",
    "                 \"../resources/midi/jungle/170 Jungle 06.mid\",\n",
    "                 \"../resources/midi/jungle/170 Jungle 07.mid\",\n",
    "                 \"../resources/midi/jungle/170 Jungle 08.mid\",\n",
    "                 \"../resources/midi/jungle/170 Jungle 09.mid\",\n",
    "                 \"../resources/midi/jungle/170 Jungle 10.mid\",\n",
    "                 \"../resources/midi/jungle/170 Jungle 12.mid\",\n",
    "                 \"../resources/midi/jungle/170 Jungle 13.mid\",\n",
    "                 \"../resources/midi/jungle/170 Jungle 14.mid\",\n",
    "                 \"../resources/midi/jungle/170 Jungle 15.mid\",\n",
    "                 \"../resources/midi/jungle/170 Jungle 16.mid\",\n",
    "                 \"../resources/midi/jungle/180 Jungle 02.mid\"]"
   ]
  },
  {
   "cell_type": "markdown",
   "metadata": {},
   "source": [
    "## Define Callback Function\n",
    "\n",
    "This function is called after every iteration of *SequenceLearner* model training. It controls outputting intermediary results and can trigger early stopping of the evaluation pipeline. Since the space of all hyperparameter combinations to evaluate can be exponentially large, it can make sense to implement reasonable early stopping criteria, i.e. after a given number of single evaluations or a predetermined amount of time."
   ]
  },
  {
   "cell_type": "code",
   "execution_count": 5,
   "metadata": {
    "collapsed": true
   },
   "outputs": [],
   "source": [
    "results_dfs = []\n",
    "runs_completed = [0]\n",
    "start_time = time.time()\n",
    "hours = 0.5\n",
    "max_runtime = hours*60*60\n",
    "\n",
    "def callback(params, metrics, abort):\n",
    "    runs_completed[0] += 1\n",
    "    merged = {**params, **metrics}\n",
    "    merged['nn_features'] = ', '.join(merged['nn_features'])\n",
    "    print(\"Completed \" + str(runs_completed[0]) + \" runs.\")\n",
    "    print(merged)\n",
    "    results_dfs.append(pd.DataFrame(merged, index=[0]))\n",
    "    elapsed_time = time.time() - start_time\n",
    "    print(str(elapsed_time) + \" seconds elapsed so far.\")\n",
    "    if elapsed_time >= max_runtime:\n",
    "        print(\"Max. runtime reached.\")\n",
    "        abort()"
   ]
  },
  {
   "cell_type": "markdown",
   "metadata": {},
   "source": [
    "## Build and Run the Pipeline"
   ]
  },
  {
   "cell_type": "code",
   "execution_count": 6,
   "metadata": {
    "collapsed": false,
    "scrolled": true
   },
   "outputs": [
    {
     "name": "stdout",
     "output_type": "stream",
     "text": [
      "Brute-force evaluation of 91 hyperparameter combinations.\n",
      "Loaded 100000 documents\n",
      "Loaded 200000 documents\n",
      "Loaded 300000 documents\n",
      "Loaded 400000 documents\n",
      "Loaded 500000 documents\n",
      "Loaded 600000 documents\n",
      "Loaded 700000 documents\n",
      "Loaded 800000 documents\n",
      "Loaded 900000 documents\n",
      "Loaded 1000000 documents\n",
      "Loaded 1100000 documents\n",
      "Loaded 1200000 documents\n",
      "Loaded 1300000 documents\n",
      "Loaded 1400000 documents\n",
      "Loaded 1500000 documents\n",
      "Loaded 1600000 documents\n",
      "Loaded 1700000 documents\n",
      "Training encoder model...\n",
      "Trained encoder model in 142.57660293579102 seconds\n",
      "Training and evaluating fold 1 of 4.\n",
      "Trained sequence learning model in 53.9521279335022 seconds\n",
      "Trained and evaluated fold 1 of sequence model in 87.82664895057678 seconds.\n",
      "Training and evaluating fold 2 of 4.\n",
      "Trained sequence learning model in 56.97877502441406 seconds\n",
      "Trained and evaluated fold 2 of sequence model in 58.677119970321655 seconds.\n",
      "Training and evaluating fold 3 of 4.\n",
      "Trained sequence learning model in 55.9173378944397 seconds\n",
      "Trained and evaluated fold 3 of sequence model in 58.0874969959259 seconds.\n",
      "Training and evaluating fold 4 of 4.\n",
      "Trained sequence learning model in 57.066707134246826 seconds\n",
      "Trained and evaluated fold 4 of sequence model in 59.698375940322876 seconds.\n",
      "Completed 1 runs.\n",
      "{'nn_epochs': 16, 'nn_optimizer': 'nadam', 'doc2vec_learning_rate_end': 0.2, 'nn_loss': 'logcosh', 'doc2vec_vector_size': 20, 'doc2vec_dm': 1, 'doc2vec_learning_rate_start': 0.025, 'doc2vec_window': 4, 'nn_dense_activation_function': 'linear', 'precision': 0.32775785574293037, 'nn_features': 'bpm, measure, beat', 'nn_batch_size': 32, 'doc2vec_min_count': 8, 'nn_hidden_neurons': 32, 'recall': 0.2677167014853582, 'nn_lstm_n_prev': 16, 'doc2vec_epochs': 1, 'nn_dropout': 0, 'doc2vec_negative': 0, 'nn_layers': 16, 'nn_lstm_activation_function': 'selu', 'doc2vec_hs': 0, 'f1': 0.2868849296088102, 'doc2vec_dm_mean': 1, 'doc2vec_docs': '../../midi-embeddings/data/full_1_measure.txt'}\n",
      "446.4946150779724 seconds elapsed so far.\n",
      "Training and evaluating fold 1 of 4.\n",
      "Trained sequence learning model in 70.8675901889801 seconds\n",
      "Trained and evaluated fold 1 of sequence model in 74.36095094680786 seconds.\n",
      "Training and evaluating fold 2 of 4.\n",
      "Trained sequence learning model in 59.052405834198 seconds\n",
      "Trained and evaluated fold 2 of sequence model in 62.959996938705444 seconds.\n",
      "Training and evaluating fold 3 of 4.\n",
      "Trained sequence learning model in 69.95103812217712 seconds\n",
      "Trained and evaluated fold 3 of sequence model in 74.25163984298706 seconds.\n",
      "Training and evaluating fold 4 of 4.\n",
      "Trained sequence learning model in 84.20218896865845 seconds\n",
      "Trained and evaluated fold 4 of sequence model in 88.82035088539124 seconds.\n",
      "Completed 2 runs.\n",
      "{'nn_epochs': 16, 'nn_optimizer': 'adam', 'doc2vec_learning_rate_end': 0.2, 'nn_loss': 'logcosh', 'doc2vec_vector_size': 20, 'doc2vec_dm': 1, 'doc2vec_learning_rate_start': 0.025, 'doc2vec_window': 4, 'nn_dense_activation_function': 'linear', 'precision': 0.3308955762313971, 'nn_features': 'bpm, measure, beat', 'nn_batch_size': 32, 'doc2vec_min_count': 8, 'nn_hidden_neurons': 32, 'recall': 0.2919044747402956, 'nn_lstm_n_prev': 16, 'doc2vec_epochs': 1, 'nn_dropout': 0, 'doc2vec_negative': 0, 'nn_layers': 16, 'nn_lstm_activation_function': 'selu', 'doc2vec_hs': 0, 'f1': 0.3023662352020561, 'doc2vec_dm_mean': 1, 'doc2vec_docs': '../../midi-embeddings/data/full_1_measure.txt'}\n",
      "746.9001660346985 seconds elapsed so far.\n",
      "Training and evaluating fold 1 of 4.\n",
      "Trained sequence learning model in 59.714637994766235 seconds\n",
      "Trained and evaluated fold 1 of sequence model in 64.82397198677063 seconds.\n",
      "Training and evaluating fold 2 of 4.\n",
      "Trained sequence learning model in 85.28626918792725 seconds\n",
      "Trained and evaluated fold 2 of sequence model in 91.34338808059692 seconds.\n",
      "Training and evaluating fold 3 of 4.\n",
      "Trained sequence learning model in 71.14594101905823 seconds\n",
      "Trained and evaluated fold 3 of sequence model in 77.87166094779968 seconds.\n",
      "Training and evaluating fold 4 of 4.\n",
      "Trained sequence learning model in 66.15170407295227 seconds\n",
      "Trained and evaluated fold 4 of sequence model in 72.66186714172363 seconds.\n",
      "Completed 3 runs.\n",
      "{'nn_epochs': 16, 'nn_optimizer': 'adadelta', 'doc2vec_learning_rate_end': 0.2, 'nn_loss': 'categorical_crossentropy', 'doc2vec_vector_size': 20, 'doc2vec_dm': 1, 'doc2vec_learning_rate_start': 0.025, 'doc2vec_window': 4, 'nn_dense_activation_function': 'linear', 'precision': 0.0877431026684758, 'nn_features': 'bpm, measure, beat', 'nn_batch_size': 32, 'doc2vec_min_count': 8, 'nn_hidden_neurons': 32, 'recall': 0.16846638022011157, 'nn_lstm_n_prev': 16, 'doc2vec_epochs': 1, 'nn_dropout': 0, 'doc2vec_negative': 0, 'nn_layers': 16, 'nn_lstm_activation_function': 'selu', 'doc2vec_hs': 0, 'f1': 0.11178388361224185, 'doc2vec_dm_mean': 1, 'doc2vec_docs': '../../midi-embeddings/data/full_1_measure.txt'}\n",
      "1053.637887954712 seconds elapsed so far.\n",
      "Training and evaluating fold 1 of 4.\n",
      "Trained sequence learning model in 139.9148349761963 seconds\n",
      "Trained and evaluated fold 1 of sequence model in 147.27607893943787 seconds.\n",
      "Training and evaluating fold 2 of 4.\n",
      "Trained sequence learning model in 66.4374361038208 seconds\n",
      "Trained and evaluated fold 2 of sequence model in 74.21319508552551 seconds.\n",
      "Training and evaluating fold 3 of 4.\n",
      "Trained sequence learning model in 140.18773484230042 seconds\n",
      "Trained and evaluated fold 3 of sequence model in 148.94839811325073 seconds.\n",
      "Training and evaluating fold 4 of 4.\n",
      "Trained sequence learning model in 72.63533806800842 seconds\n",
      "Trained and evaluated fold 4 of sequence model in 81.93992018699646 seconds.\n",
      "Completed 4 runs.\n",
      "{'nn_epochs': 16, 'nn_optimizer': 'adagrad', 'doc2vec_learning_rate_end': 0.2, 'nn_loss': 'categorical_hinge', 'doc2vec_vector_size': 20, 'doc2vec_dm': 1, 'doc2vec_learning_rate_start': 0.025, 'doc2vec_window': 4, 'nn_dense_activation_function': 'linear', 'precision': 0.2697443518339041, 'nn_features': 'bpm, measure, beat', 'nn_batch_size': 32, 'doc2vec_min_count': 8, 'nn_hidden_neurons': 32, 'recall': 0.35968785222516564, 'nn_lstm_n_prev': 16, 'doc2vec_epochs': 1, 'nn_dropout': 0, 'doc2vec_negative': 0, 'nn_layers': 16, 'nn_lstm_activation_function': 'selu', 'doc2vec_hs': 0, 'f1': 0.2851376235704594, 'doc2vec_dm_mean': 1, 'doc2vec_docs': '../../midi-embeddings/data/full_1_measure.txt'}\n",
      "1506.0581829547882 seconds elapsed so far.\n",
      "Training and evaluating fold 1 of 4.\n",
      "Trained sequence learning model in 71.93339395523071 seconds\n",
      "Trained and evaluated fold 1 of sequence model in 81.95074796676636 seconds.\n",
      "Training and evaluating fold 2 of 4.\n",
      "Trained sequence learning model in 68.29372096061707 seconds\n",
      "Trained and evaluated fold 2 of sequence model in 77.93345212936401 seconds.\n",
      "Training and evaluating fold 3 of 4.\n",
      "Trained sequence learning model in 183.76941108703613 seconds\n",
      "Trained and evaluated fold 3 of sequence model in 198.20236897468567 seconds.\n",
      "Training and evaluating fold 4 of 4.\n",
      "Trained sequence learning model in 76.81902599334717 seconds\n",
      "Trained and evaluated fold 4 of sequence model in 87.80279278755188 seconds.\n",
      "Completed 5 runs.\n",
      "{'nn_epochs': 16, 'nn_optimizer': 'sgd', 'doc2vec_learning_rate_end': 0.2, 'nn_loss': 'mean_squared_error', 'doc2vec_vector_size': 20, 'doc2vec_dm': 1, 'doc2vec_learning_rate_start': 0.025, 'doc2vec_window': 4, 'nn_dense_activation_function': 'linear', 'precision': 0.09523809523809523, 'nn_features': 'bpm, measure, beat', 'nn_batch_size': 32, 'doc2vec_min_count': 8, 'nn_hidden_neurons': 32, 'recall': 0.11216329966329966, 'nn_lstm_n_prev': 16, 'doc2vec_epochs': 1, 'nn_dropout': 0, 'doc2vec_negative': 0, 'nn_layers': 16, 'nn_lstm_activation_function': 'selu', 'doc2vec_hs': 0, 'f1': 0.09775733525733525, 'doc2vec_dm_mean': 1, 'doc2vec_docs': '../../midi-embeddings/data/full_1_measure.txt'}\n",
      "1951.9953191280365 seconds elapsed so far.\n",
      "Max. runtime reached.\n",
      "Aborting brute-force evaluation.\n",
      "Encoder saved to: models/jungle-0.3/encoder\n",
      "SequenceLearner saved to: models/jungle-0.3/seq.h5\n",
      "Saved model parameters, encoder and sequence learner to: models/jungle-0.3\n"
     ]
    },
    {
     "data": {
      "text/html": [
       "<div>\n",
       "<table border=\"1\" class=\"dataframe\">\n",
       "  <thead>\n",
       "    <tr style=\"text-align: right;\">\n",
       "      <th></th>\n",
       "      <th>doc2vec_dm</th>\n",
       "      <th>doc2vec_dm_mean</th>\n",
       "      <th>doc2vec_docs</th>\n",
       "      <th>doc2vec_epochs</th>\n",
       "      <th>doc2vec_hs</th>\n",
       "      <th>doc2vec_learning_rate_end</th>\n",
       "      <th>doc2vec_learning_rate_start</th>\n",
       "      <th>doc2vec_min_count</th>\n",
       "      <th>doc2vec_negative</th>\n",
       "      <th>doc2vec_vector_size</th>\n",
       "      <th>...</th>\n",
       "      <th>nn_epochs</th>\n",
       "      <th>nn_features</th>\n",
       "      <th>nn_hidden_neurons</th>\n",
       "      <th>nn_layers</th>\n",
       "      <th>nn_loss</th>\n",
       "      <th>nn_lstm_activation_function</th>\n",
       "      <th>nn_lstm_n_prev</th>\n",
       "      <th>nn_optimizer</th>\n",
       "      <th>precision</th>\n",
       "      <th>recall</th>\n",
       "    </tr>\n",
       "  </thead>\n",
       "  <tbody>\n",
       "    <tr>\n",
       "      <th>0</th>\n",
       "      <td>1</td>\n",
       "      <td>1</td>\n",
       "      <td>../../midi-embeddings/data/full_1_measure.txt</td>\n",
       "      <td>1</td>\n",
       "      <td>0</td>\n",
       "      <td>0.2</td>\n",
       "      <td>0.025</td>\n",
       "      <td>8</td>\n",
       "      <td>0</td>\n",
       "      <td>20</td>\n",
       "      <td>...</td>\n",
       "      <td>16</td>\n",
       "      <td>[bpm, measure, beat]</td>\n",
       "      <td>32</td>\n",
       "      <td>16</td>\n",
       "      <td>logcosh</td>\n",
       "      <td>selu</td>\n",
       "      <td>16</td>\n",
       "      <td>nadam</td>\n",
       "      <td>0.327758</td>\n",
       "      <td>0.267717</td>\n",
       "    </tr>\n",
       "    <tr>\n",
       "      <th>1</th>\n",
       "      <td>1</td>\n",
       "      <td>1</td>\n",
       "      <td>../../midi-embeddings/data/full_1_measure.txt</td>\n",
       "      <td>1</td>\n",
       "      <td>0</td>\n",
       "      <td>0.2</td>\n",
       "      <td>0.025</td>\n",
       "      <td>8</td>\n",
       "      <td>0</td>\n",
       "      <td>20</td>\n",
       "      <td>...</td>\n",
       "      <td>16</td>\n",
       "      <td>[bpm, measure, beat]</td>\n",
       "      <td>32</td>\n",
       "      <td>16</td>\n",
       "      <td>logcosh</td>\n",
       "      <td>selu</td>\n",
       "      <td>16</td>\n",
       "      <td>adam</td>\n",
       "      <td>0.330896</td>\n",
       "      <td>0.291904</td>\n",
       "    </tr>\n",
       "    <tr>\n",
       "      <th>2</th>\n",
       "      <td>1</td>\n",
       "      <td>1</td>\n",
       "      <td>../../midi-embeddings/data/full_1_measure.txt</td>\n",
       "      <td>1</td>\n",
       "      <td>0</td>\n",
       "      <td>0.2</td>\n",
       "      <td>0.025</td>\n",
       "      <td>8</td>\n",
       "      <td>0</td>\n",
       "      <td>20</td>\n",
       "      <td>...</td>\n",
       "      <td>16</td>\n",
       "      <td>[bpm, measure, beat]</td>\n",
       "      <td>32</td>\n",
       "      <td>16</td>\n",
       "      <td>categorical_crossentropy</td>\n",
       "      <td>selu</td>\n",
       "      <td>16</td>\n",
       "      <td>adadelta</td>\n",
       "      <td>0.087743</td>\n",
       "      <td>0.168466</td>\n",
       "    </tr>\n",
       "    <tr>\n",
       "      <th>3</th>\n",
       "      <td>1</td>\n",
       "      <td>1</td>\n",
       "      <td>../../midi-embeddings/data/full_1_measure.txt</td>\n",
       "      <td>1</td>\n",
       "      <td>0</td>\n",
       "      <td>0.2</td>\n",
       "      <td>0.025</td>\n",
       "      <td>8</td>\n",
       "      <td>0</td>\n",
       "      <td>20</td>\n",
       "      <td>...</td>\n",
       "      <td>16</td>\n",
       "      <td>[bpm, measure, beat]</td>\n",
       "      <td>32</td>\n",
       "      <td>16</td>\n",
       "      <td>categorical_hinge</td>\n",
       "      <td>selu</td>\n",
       "      <td>16</td>\n",
       "      <td>adagrad</td>\n",
       "      <td>0.269744</td>\n",
       "      <td>0.359688</td>\n",
       "    </tr>\n",
       "    <tr>\n",
       "      <th>4</th>\n",
       "      <td>1</td>\n",
       "      <td>1</td>\n",
       "      <td>../../midi-embeddings/data/full_1_measure.txt</td>\n",
       "      <td>1</td>\n",
       "      <td>0</td>\n",
       "      <td>0.2</td>\n",
       "      <td>0.025</td>\n",
       "      <td>8</td>\n",
       "      <td>0</td>\n",
       "      <td>20</td>\n",
       "      <td>...</td>\n",
       "      <td>16</td>\n",
       "      <td>[bpm, measure, beat]</td>\n",
       "      <td>32</td>\n",
       "      <td>16</td>\n",
       "      <td>mean_squared_error</td>\n",
       "      <td>selu</td>\n",
       "      <td>16</td>\n",
       "      <td>sgd</td>\n",
       "      <td>0.095238</td>\n",
       "      <td>0.112163</td>\n",
       "    </tr>\n",
       "  </tbody>\n",
       "</table>\n",
       "<p>5 rows × 25 columns</p>\n",
       "</div>"
      ],
      "text/plain": [
       "   doc2vec_dm  doc2vec_dm_mean                                   doc2vec_docs  \\\n",
       "0           1                1  ../../midi-embeddings/data/full_1_measure.txt   \n",
       "1           1                1  ../../midi-embeddings/data/full_1_measure.txt   \n",
       "2           1                1  ../../midi-embeddings/data/full_1_measure.txt   \n",
       "3           1                1  ../../midi-embeddings/data/full_1_measure.txt   \n",
       "4           1                1  ../../midi-embeddings/data/full_1_measure.txt   \n",
       "\n",
       "   doc2vec_epochs  doc2vec_hs  doc2vec_learning_rate_end  \\\n",
       "0               1           0                        0.2   \n",
       "1               1           0                        0.2   \n",
       "2               1           0                        0.2   \n",
       "3               1           0                        0.2   \n",
       "4               1           0                        0.2   \n",
       "\n",
       "   doc2vec_learning_rate_start  doc2vec_min_count  doc2vec_negative  \\\n",
       "0                        0.025                  8                 0   \n",
       "1                        0.025                  8                 0   \n",
       "2                        0.025                  8                 0   \n",
       "3                        0.025                  8                 0   \n",
       "4                        0.025                  8                 0   \n",
       "\n",
       "   doc2vec_vector_size    ...     nn_epochs           nn_features  \\\n",
       "0                   20    ...            16  [bpm, measure, beat]   \n",
       "1                   20    ...            16  [bpm, measure, beat]   \n",
       "2                   20    ...            16  [bpm, measure, beat]   \n",
       "3                   20    ...            16  [bpm, measure, beat]   \n",
       "4                   20    ...            16  [bpm, measure, beat]   \n",
       "\n",
       "   nn_hidden_neurons nn_layers                   nn_loss  \\\n",
       "0                 32        16                   logcosh   \n",
       "1                 32        16                   logcosh   \n",
       "2                 32        16  categorical_crossentropy   \n",
       "3                 32        16         categorical_hinge   \n",
       "4                 32        16        mean_squared_error   \n",
       "\n",
       "   nn_lstm_activation_function nn_lstm_n_prev  nn_optimizer  precision  \\\n",
       "0                         selu             16         nadam   0.327758   \n",
       "1                         selu             16          adam   0.330896   \n",
       "2                         selu             16      adadelta   0.087743   \n",
       "3                         selu             16       adagrad   0.269744   \n",
       "4                         selu             16           sgd   0.095238   \n",
       "\n",
       "     recall  \n",
       "0  0.267717  \n",
       "1  0.291904  \n",
       "2  0.168466  \n",
       "3  0.359688  \n",
       "4  0.112163  \n",
       "\n",
       "[5 rows x 25 columns]"
      ]
     },
     "execution_count": 6,
     "metadata": {},
     "output_type": "execute_result"
    }
   ],
   "source": [
    "pipeline = Pipeline()\n",
    "pipeline.set_data_loader(data_loader)\n",
    "pipeline.set_training_docs(training_docs)\n",
    "pipeline.set_k_fold_cross_eval(k=4)\n",
    "\n",
    "brute_force_param_sweep = BruteForce(params=param_sweep_values)\n",
    "brute_force_param_sweep.set_callback(callback)\n",
    "brute_force_param_sweep.save_best_model(\"models\", \"jungle\")\n",
    "pipeline.set_optimizer(brute_force_param_sweep)\n",
    "\n",
    "pipeline.run()"
   ]
  },
  {
   "cell_type": "markdown",
   "metadata": {},
   "source": [
    "## Collect and Aggregate Results of Runs "
   ]
  },
  {
   "cell_type": "code",
   "execution_count": 7,
   "metadata": {
    "collapsed": false
   },
   "outputs": [],
   "source": [
    "results_df = pd.concat(results_dfs)\n",
    "\n",
    "# Alternatively: load previous results to inspect\n",
    "# results_df = pd.read_csv('breakbeats_2018_06_03.csv')\n",
    "# TODO read 'variables' from DF if using saved CSV"
   ]
  },
  {
   "cell_type": "markdown",
   "metadata": {},
   "source": [
    "## Graph Single Variables (F1 Scores)"
   ]
  },
  {
   "cell_type": "code",
   "execution_count": 8,
   "metadata": {
    "collapsed": false
   },
   "outputs": [
    {
     "data": {
      "image/png": "[encoded data removed]",
      "text/plain": [
       "<matplotlib.figure.Figure at 0x10d0ef898>"
      ]
     },
     "metadata": {},
     "output_type": "display_data"
    }
   ],
   "source": [
    "sns.set_style(\"darkgrid\")\n",
    "\n",
    "# Get number of plots to create\n",
    "num_plots = len(variables)       \n",
    "dim = math.ceil(num_plots / 2)\n",
    "\n",
    "# Set up figures for plots\n",
    "fig, axes = plt.subplots(dim, 2, sharex=False, sharey=True)\n",
    "fig.set_size_inches(10, dim*5) # width, height\n",
    "\n",
    "for axis_index, variable in enumerate(variables):\n",
    "    grouped = results_df[[variable,'f1']].groupby([variable], as_index=False).median()\n",
    "    sns.pointplot(x=variable, y='f1', data=grouped, ax=axes.flat[axis_index])"
   ]
  },
  {
   "cell_type": "markdown",
   "metadata": {},
   "source": [
    "## Graph Variable Interactions (F1 Scores)"
   ]
  },
  {
   "cell_type": "code",
   "execution_count": 9,
   "metadata": {
    "collapsed": false,
    "scrolled": false
   },
   "outputs": [
    {
     "data": {
      "image/png": "[encoded data removed]",
      "text/plain": [
       "<matplotlib.figure.Figure at 0x39dd810b8>"
      ]
     },
     "metadata": {},
     "output_type": "display_data"
    }
   ],
   "source": [
    "combinations = list(itertools.combinations(variables, r=2))\n",
    "plots_per_row = 2\n",
    "inches_per_plot = 5\n",
    "\n",
    "# Number of plots to render\n",
    "num_plots = len(combinations)            \n",
    "dim = math.ceil(num_plots / plots_per_row)\n",
    "\n",
    "# Set up figures for plots\n",
    "fig, axes = plt.subplots(dim, plots_per_row, sharex=False, sharey=False)\n",
    "fig.set_size_inches(plots_per_row * inches_per_plot, dim * inches_per_plot) # width, height\n",
    "\n",
    "# Plot each pair of variables against each other on a heatmap\n",
    "for axis_index, (heatmap_x, heatmap_y) in enumerate(combinations):\n",
    "    grouped = results_df.groupby([heatmap_y, heatmap_x], as_index=False).median()\n",
    "    pivoted = grouped.pivot(heatmap_y, heatmap_x, \"f1\")\n",
    "    sns.heatmap(pivoted, annot=True, fmt=\"g\", cmap='viridis', ax=axes.flat[axis_index])\n",
    "    axis_index += 1"
   ]
  },
  {
   "cell_type": "markdown",
   "metadata": {},
   "source": [
    "## Store Results of Evaluation Run"
   ]
  },
  {
   "cell_type": "code",
   "execution_count": 10,
   "metadata": {
    "collapsed": false
   },
   "outputs": [],
   "source": [
    "#results_df.to_csv(\"breakbeats_2018_06_03.csv\")"
   ]
  },
  {
   "cell_type": "code",
   "execution_count": null,
   "metadata": {
    "collapsed": true
   },
   "outputs": [],
   "source": []
  }
 ],
 "metadata": {
  "kernelspec": {
   "display_name": "Python 3",
   "language": "python",
   "name": "python3"
  },
  "language_info": {
   "codemirror_mode": {
    "name": "ipython",
    "version": 3
   },
   "file_extension": ".py",
   "mimetype": "text/x-python",
   "name": "python",
   "nbconvert_exporter": "python",
   "pygments_lexer": "ipython3",
   "version": "3.5.2"
  }
 },
 "nbformat": 4,
 "nbformat_minor": 2
}
