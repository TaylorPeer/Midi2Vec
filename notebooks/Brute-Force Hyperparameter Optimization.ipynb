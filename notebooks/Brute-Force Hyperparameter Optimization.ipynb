{
 "cells": [
  {
   "cell_type": "markdown",
   "metadata": {},
   "source": [
    "# Brute-Force Hyperparameter Optimization\n",
    "\n",
    "This notebook shows how to use the *BruteForce* optimizer module together with a **Midi2Vec** *Pipeline* to evaluate a large number of *Encoder* and *SequenceLearner* hyperparameter combinations against a given training set.\n",
    "\n",
    "* **Encoder**: trains a *Doc2Vec* model against textual representations of MIDI files and uses this model to convert MIDI files into sequences of real-valued vectors.\n",
    "* **SequenceLearner**: uses a *Keras* LSTM to learn patterns in sequences of real-valued vectors and, once trained, can generate new sequences of such vectors.\n",
    "* **Pipeline**: combines various **Midi2Vec** components for encoding, sequence learning and evaluation into a single interface.\n",
    "* **BruteForce**: Computes and evaluates all possible hyperparameter combinations within user-specified ranges."
   ]
  },
  {
   "cell_type": "markdown",
   "metadata": {},
   "source": [
    "## Imports"
   ]
  },
  {
   "cell_type": "code",
   "execution_count": 1,
   "metadata": {
    "collapsed": false
   },
   "outputs": [
    {
     "name": "stderr",
     "output_type": "stream",
     "text": [
      "/usr/local/lib/python3.5/site-packages/h5py/__init__.py:36: FutureWarning: Conversion of the second argument of issubdtype from `float` to `np.floating` is deprecated. In future, it will be treated as `np.float64 == np.dtype(float).type`.\n",
      "  from ._conv import register_converters as _register_converters\n",
      "Using TensorFlow backend.\n",
      "/usr/local/Cellar/python3/3.5.2_3/Frameworks/Python.framework/Versions/3.5/lib/python3.5/importlib/_bootstrap.py:222: RuntimeWarning: compiletime version 3.6 of module 'tensorflow.python.framework.fast_tensor_util' does not match runtime version 3.5\n",
      "  return f(*args, **kwds)\n"
     ]
    }
   ],
   "source": [
    "import sys\n",
    "import time\n",
    "import logging\n",
    "import pandas as pd\n",
    "import seaborn as sns\n",
    "%matplotlib inline\n",
    "import matplotlib.pyplot as plt\n",
    "import math\n",
    "import itertools\n",
    "\n",
    "# Add Midi2Vec to Python working directory\n",
    "sys.path.append('../')\n",
    "\n",
    "from data_loading import MidiDataLoader\n",
    "from midi_to_dataframe import NoteMapper\n",
    "from pipeline import Pipeline\n",
    "from optimization import BruteForce"
   ]
  },
  {
   "cell_type": "markdown",
   "metadata": {},
   "source": [
    "## Logging Configuration"
   ]
  },
  {
   "cell_type": "code",
   "execution_count": 2,
   "metadata": {
    "collapsed": true
   },
   "outputs": [],
   "source": [
    "logger = logging.getLogger()\n",
    "logger.level = logging.INFO\n",
    "stream_handler = logging.StreamHandler(sys.stdout)\n",
    "logger.addHandler(stream_handler)\n",
    "\n",
    "# Disable Gensim (Doc2Vec) output\n",
    "logging.getLogger(\"gensim\").setLevel(logging.WARNING)"
   ]
  },
  {
   "cell_type": "markdown",
   "metadata": {},
   "source": [
    "## Brute-Force Hyperparameter Sweep Values\n",
    "\n",
    "All individual hyperparameter values to evaluate should be explicitly defined below. The *BruteForce* module will then compute all of their possible permutations and train and evaluate the corresponding modules using each computed set of parameters."
   ]
  },
  {
   "cell_type": "code",
   "execution_count": 3,
   "metadata": {
    "collapsed": true
   },
   "outputs": [],
   "source": [
    "# Documents used to train semantic encoder model\n",
    "encoder_training_docs = \"../../midi-embeddings/data/full_1_measure.txt\"\n",
    "#encoder_training_docs = \"../resources/encoder_training_docs/full_1_measure.txt\"\n",
    "#encoder_training_docs = \"../../midi-embeddings/data/full_1_measure_100k.txt\"\n",
    "\n",
    "param_sweep_values = {\n",
    "\n",
    "    # Encoder (doc2vec) settings:\n",
    "    'doc2vec_docs': [encoder_training_docs],\n",
    "    'doc2vec_dm': [1],\n",
    "    'doc2vec_dm_mean': [1],\n",
    "    'doc2vec_epochs': [1],\n",
    "    'doc2vec_hs': [0],\n",
    "    'doc2vec_learning_rate_start': [0.025],\n",
    "    'doc2vec_learning_rate_end': [0.2],\n",
    "    'doc2vec_min_count': [8],\n",
    "    'doc2vec_negative': [0],\n",
    "    'doc2vec_vector_size': [20],\n",
    "    'doc2vec_window': [4],\n",
    "\n",
    "    # Sequence learning (Keras LSTM) settings:\n",
    "    'nn_features': [\n",
    "        ['bpm', 'measure', 'beat']\n",
    "    ],\n",
    "    'nn_batch_size': [32],\n",
    "    'nn_dense_activation_function': [\"linear\", \"sigmoid\", \"softmax\", \"tanh\", \"relu\"],\n",
    "    'nn_dropout': [0],\n",
    "    'nn_epochs': [16],\n",
    "    'nn_hidden_neurons': [32],\n",
    "    'nn_layers': [16],\n",
    "    'nn_lstm_activation_function': [\"selu\", \"tanh\", \"relu\", \"sigmoid\", \"softmax\"],\n",
    "    'nn_lstm_n_prev': [16],\n",
    "    'nn_loss': [\n",
    "        'mean_squared_error',\n",
    "        #'mean_absolute_error',\n",
    "        #'mean_absolute_percentage_error',\n",
    "        #'mean_squared_logarithmic_error',\n",
    "        #'squared_hinge',\n",
    "        #'hinge',\n",
    "        #'categorical_hinge',\n",
    "        #'logcosh',\n",
    "        #'categorical_crossentropy',\n",
    "        #'sparse_categorical_crossentropy',\n",
    "        #'binary_crossentropy',\n",
    "        #'kullback_leibler_divergence',\n",
    "        #'cosine_proximity'\n",
    "    ],\n",
    "    'nn_optimizer': [\n",
    "        #'sgd',\n",
    "        'rmsprop',\n",
    "        #'adagrad',\n",
    "        #'adadelta',\n",
    "        #'adam',\n",
    "        #'adamax',\n",
    "        #'nadam'\n",
    "    ]\n",
    "}\n",
    "\n",
    "# 'Variables' are those hyperparameters with multiple values defined\n",
    "variables = []\n",
    "for key, value in param_sweep_values.items():\n",
    "    if len(value) > 1:\n",
    "        variables.append(key)"
   ]
  },
  {
   "cell_type": "markdown",
   "metadata": {},
   "source": [
    "## Define Training Documents and DataLoader \n",
    "\n",
    "The training documents are MIDI sequences that the **Midi2Vec** model should learn to imitate and reproduce."
   ]
  },
  {
   "cell_type": "code",
   "execution_count": 4,
   "metadata": {
    "collapsed": false
   },
   "outputs": [],
   "source": [
    "# Define note mapper for MIDI file loading\n",
    "note_mapping_config_path = \"../settings/map-to-group.json\"\n",
    "note_mapper = NoteMapper(note_mapping_config_path)\n",
    "\n",
    "# Data loader used to encode MIDI-format training files\n",
    "data_loader = MidiDataLoader(note_mapper)\n",
    "\n",
    "# Define training documents for sequence learning\n",
    "training_docs = [\"../resources/midi/system_shock/cyberspace_clip_16.mid\",\n",
    "                \"../resources/midi/system_shock/end_remix_clip_16.mid\",\n",
    "                \"../resources/midi/system_shock/energy_clip_16.mid\",\n",
    "                \"../resources/midi/system_shock/security_bridge_clip_16.mid\"]\n",
    "\n",
    "training_docs = [\"../resources/midi/breakbeats/084 Breakthru.mid\",\n",
    "                 \"../resources/midi/breakbeats/086 Clouds.mid\",\n",
    "                 \"../resources/midi/breakbeats/089 Get Out.mid\",\n",
    "                 \"../resources/midi/breakbeats/089 Wrong.mid\",\n",
    "                 \"../resources/midi/breakbeats/090 Deceive.mid\",\n",
    "                 \"../resources/midi/breakbeats/090 New York.mid\",\n",
    "                 \"../resources/midi/breakbeats/090 Radio.mid\",\n",
    "                 \"../resources/midi/breakbeats/093 Pretender.mid\",\n",
    "                 \"../resources/midi/breakbeats/093 Right Won.mid\",\n",
    "                 \"../resources/midi/breakbeats/094 Run.mid\"]\n",
    "\n",
    "training_docs = [\"../resources/midi/jungle/160 Jungle 05.mid\",\n",
    "                 \"../resources/midi/jungle/160 Jungle 11.mid\",\n",
    "                 \"../resources/midi/jungle/170 Jungle 01.mid\",\n",
    "                 \"../resources/midi/jungle/170 Jungle 03.mid\",\n",
    "                 \"../resources/midi/jungle/170 Jungle 04.mid\",\n",
    "                 \"../resources/midi/jungle/170 Jungle 06.mid\",\n",
    "                 \"../resources/midi/jungle/170 Jungle 07.mid\",\n",
    "                 \"../resources/midi/jungle/170 Jungle 08.mid\",\n",
    "                 \"../resources/midi/jungle/170 Jungle 09.mid\",\n",
    "                 \"../resources/midi/jungle/170 Jungle 10.mid\",\n",
    "                 \"../resources/midi/jungle/170 Jungle 12.mid\",\n",
    "                 \"../resources/midi/jungle/170 Jungle 13.mid\",\n",
    "                 \"../resources/midi/jungle/170 Jungle 14.mid\",\n",
    "                 \"../resources/midi/jungle/170 Jungle 15.mid\",\n",
    "                 \"../resources/midi/jungle/170 Jungle 16.mid\",\n",
    "                 \"../resources/midi/jungle/180 Jungle 02.mid\"]\n",
    "\n",
    "training_docs = [\"../resources/midi/bach_chorales/01-AchGottundHerr.mid\",\n",
    "                 \"../resources/midi/bach_chorales/02-AchLiebenChristen.mid\",\n",
    "                 \"../resources/midi/bach_chorales/03-ChristederdubistTagundLicht.mid\",\n",
    "                 \"../resources/midi/bach_chorales/04-ChristeDuBeistand.mid\",\n",
    "                 \"../resources/midi/bach_chorales/05-DieNacht.mid\",\n",
    "                 \"../resources/midi/bach_chorales/06-DieSonne.mid\",\n",
    "                 \"../resources/midi/bach_chorales/07-HerrGott.mid\",\n",
    "                 \"../resources/midi/bach_chorales/08-FuerDeinenThron.mid\",\n",
    "                 \"../resources/midi/bach_chorales/09-Jesus.mid\",\n",
    "                 \"../resources/midi/bach_chorales/10-NunBitten.mid\"]"
   ]
  },
  {
   "cell_type": "markdown",
   "metadata": {},
   "source": [
    "## Define Callback Function\n",
    "\n",
    "This function is called after every iteration of *SequenceLearner* model training. It controls outputting intermediary results and can trigger early stopping of the evaluation pipeline. Since the space of all hyperparameter combinations to evaluate can be exponentially large, it can make sense to implement reasonable early stopping criteria, i.e. after a given number of single evaluations or a predetermined amount of time."
   ]
  },
  {
   "cell_type": "code",
   "execution_count": null,
   "metadata": {
    "collapsed": true
   },
   "outputs": [],
   "source": [
    "results_dfs = []\n",
    "runs_completed = [0]\n",
    "start_time = time.time()\n",
    "hours = 3\n",
    "max_runtime = hours*60*60\n",
    "\n",
    "def callback(params, metrics, abort):\n",
    "    runs_completed[0] += 1\n",
    "    merged = {**params, **metrics}\n",
    "    merged['nn_features'] = ', '.join(merged['nn_features'])\n",
    "    print(\"Completed \" + str(runs_completed[0]) + \" runs.\")\n",
    "    print(merged)\n",
    "    results_dfs.append(pd.DataFrame(merged, index=[0]))\n",
    "    elapsed_time = time.time() - start_time\n",
    "    print(str(elapsed_time) + \" seconds elapsed so far.\")\n",
    "    if elapsed_time >= max_runtime:\n",
    "        print(\"Max. runtime reached.\")\n",
    "        abort()"
   ]
  },
  {
   "cell_type": "markdown",
   "metadata": {},
   "source": [
    "## Build and Run the Pipeline"
   ]
  },
  {
   "cell_type": "code",
   "execution_count": null,
   "metadata": {
    "collapsed": false,
    "scrolled": true
   },
   "outputs": [
    {
     "name": "stdout",
     "output_type": "stream",
     "text": [
      "Brute-force evaluation of 25 hyperparameter combinations.\n",
      "Loaded 100000 documents\n",
      "Loaded 200000 documents\n",
      "Loaded 300000 documents\n",
      "Loaded 400000 documents\n",
      "Loaded 500000 documents\n",
      "Loaded 600000 documents\n",
      "Loaded 700000 documents\n",
      "Loaded 800000 documents\n",
      "Loaded 900000 documents\n",
      "Loaded 1000000 documents\n",
      "Loaded 1100000 documents\n",
      "Loaded 1200000 documents\n",
      "Loaded 1300000 documents\n",
      "Loaded 1400000 documents\n",
      "Loaded 1500000 documents\n",
      "Loaded 1600000 documents\n"
     ]
    }
   ],
   "source": [
    "pipeline = Pipeline()\n",
    "pipeline.set_data_loader(data_loader)\n",
    "pipeline.set_training_docs(training_docs)\n",
    "pipeline.set_k_fold_cross_eval(k=4)\n",
    "\n",
    "brute_force_param_sweep = BruteForce(params=param_sweep_values)\n",
    "brute_force_param_sweep.set_callback(callback)\n",
    "brute_force_param_sweep.save_best_model(\"models\", \"bach_chorales\")\n",
    "pipeline.set_optimizer(brute_force_param_sweep)\n",
    "\n",
    "pipeline.run()"
   ]
  },
  {
   "cell_type": "markdown",
   "metadata": {},
   "source": [
    "## Collect and Aggregate Results of Runs "
   ]
  },
  {
   "cell_type": "code",
   "execution_count": null,
   "metadata": {
    "collapsed": false
   },
   "outputs": [],
   "source": [
    "results_df = pd.concat(results_dfs)\n",
    "\n",
    "# Alternatively: load previous results to inspect\n",
    "# results_df = pd.read_csv('breakbeats_2018_06_03.csv')\n",
    "# TODO read 'variables' from DF if using saved CSV"
   ]
  },
  {
   "cell_type": "markdown",
   "metadata": {},
   "source": [
    "## Graph Single Variables (F1 Scores)"
   ]
  },
  {
   "cell_type": "code",
   "execution_count": null,
   "metadata": {
    "collapsed": false
   },
   "outputs": [],
   "source": [
    "sns.set_style(\"darkgrid\")\n",
    "\n",
    "# Get number of plots to create\n",
    "num_plots = len(variables)       \n",
    "dim = math.ceil(num_plots / 2)\n",
    "\n",
    "# Set up figures for plots\n",
    "fig, axes = plt.subplots(dim, 2, sharex=False, sharey=True)\n",
    "fig.set_size_inches(10, dim*5) # width, height\n",
    "\n",
    "for axis_index, variable in enumerate(variables):\n",
    "    grouped = results_df[[variable,'f1']].groupby([variable], as_index=False).median()\n",
    "    sns.pointplot(x=variable, y='f1', data=grouped, ax=axes.flat[axis_index])"
   ]
  },
  {
   "cell_type": "markdown",
   "metadata": {},
   "source": [
    "## Graph Variable Interactions (F1 Scores)"
   ]
  },
  {
   "cell_type": "code",
   "execution_count": null,
   "metadata": {
    "collapsed": false,
    "scrolled": false
   },
   "outputs": [],
   "source": [
    "combinations = list(itertools.combinations(variables, r=2))\n",
    "plots_per_row = 2\n",
    "inches_per_plot = 5\n",
    "\n",
    "# Number of plots to render\n",
    "num_plots = len(combinations)            \n",
    "dim = math.ceil(num_plots / plots_per_row)\n",
    "\n",
    "# Set up figures for plots\n",
    "fig, axes = plt.subplots(dim, plots_per_row, sharex=False, sharey=False)\n",
    "fig.set_size_inches(plots_per_row * inches_per_plot, dim * inches_per_plot) # width, height\n",
    "\n",
    "# Plot each pair of variables against each other on a heatmap\n",
    "for axis_index, (heatmap_x, heatmap_y) in enumerate(combinations):\n",
    "    grouped = results_df.groupby([heatmap_y, heatmap_x], as_index=False).median()\n",
    "    pivoted = grouped.pivot(heatmap_y, heatmap_x, \"f1\")\n",
    "    sns.heatmap(pivoted, annot=True, fmt=\"g\", cmap='viridis', ax=axes.flat[axis_index])\n",
    "    axis_index += 1"
   ]
  },
  {
   "cell_type": "markdown",
   "metadata": {},
   "source": [
    "## Store Results of Evaluation Run"
   ]
  },
  {
   "cell_type": "code",
   "execution_count": null,
   "metadata": {
    "collapsed": false
   },
   "outputs": [],
   "source": [
    "#results_df.to_csv(\"breakbeats_2018_06_03.csv\")"
   ]
  },
  {
   "cell_type": "code",
   "execution_count": null,
   "metadata": {
    "collapsed": true
   },
   "outputs": [],
   "source": []
  }
 ],
 "metadata": {
  "kernelspec": {
   "display_name": "Python 3",
   "language": "python",
   "name": "python3"
  },
  "language_info": {
   "codemirror_mode": {
    "name": "ipython",
    "version": 3
   },
   "file_extension": ".py",
   "mimetype": "text/x-python",
   "name": "python",
   "nbconvert_exporter": "python",
   "pygments_lexer": "ipython3",
   "version": "3.5.2"
  }
 },
 "nbformat": 4,
 "nbformat_minor": 2
}
